{
 "cells": [
  {
   "cell_type": "markdown",
   "id": "59eca1cc-dede-4e6c-ae94-eedab2375258",
   "metadata": {},
   "source": [
    "# NORMALIZATION PROBLEM"
   ]
  },
  {
   "cell_type": "code",
   "execution_count": 4,
   "id": "293b9d85-4ead-4e95-b9d6-669d40f47395",
   "metadata": {},
   "outputs": [],
   "source": [
    "import numpy as np"
   ]
  },
  {
   "cell_type": "code",
   "execution_count": 8,
   "id": "1ab987a4-562b-4663-b5b3-50fd658017d2",
   "metadata": {},
   "outputs": [
    {
     "name": "stdout",
     "output_type": "stream",
     "text": [
      "Original ndarray: \n",
      "[[0.61447076 0.30121163 0.53555784 0.17956076 0.54870561]\n",
      " [0.53499199 0.85401645 0.96070826 0.44255425 0.41863642]\n",
      " [0.14049729 0.96659399 0.07630745 0.36966559 0.49451961]\n",
      " [0.11627984 0.15735641 0.63481669 0.79508783 0.56836751]\n",
      " [0.20281784 0.16804421 0.00883026 0.60100604 0.17357142]]\n",
      "\n",
      "Mean of x: 0.4345670387618228\n",
      "Standard deviation of x: 0.27387588611339886\n",
      "\n",
      "Normalized ndarray:\n",
      "[[ 0.65688045 -0.48691913  0.36874659 -0.93110162  0.41675291]\n",
      " [ 0.36668052  1.53153102  1.92109364  0.02916363 -0.05816728]\n",
      " [-1.07373363  1.94258413 -1.30810929 -0.23697395  0.21890418]\n",
      " [-1.16215853 -1.01217612  0.73116933  1.3163656   0.48854419]\n",
      " [-0.84618328 -0.97315185 -1.55448799  0.60771689 -0.95297041]]\n"
     ]
    }
   ],
   "source": [
    "# Generate a 5x5 array of random numbers between 0 and 1\n",
    "x = np.random.rand(5, 5)\n",
    "print(\"Original ndarray: \")\n",
    "print(x)\n",
    "\n",
    "# Calculate the mean and standard deviation of the array\n",
    "x_mean = x.mean()\n",
    "x_std = x.std()\n",
    "\n",
    "print(\"\\nMean of x:\", x_mean)\n",
    "print(\"Standard deviation of x:\", x_std)\n",
    "\n",
    "# Normalize the ndarray using the formula Z = (X - X_mean) / X_std\n",
    "x_normalized = (x - x_mean) / x_std\n",
    "\n",
    "# Save the normalized array\n",
    "np.save('X_normalized.npy', x_normalized)\n",
    "\n",
    "print(\"\\nNormalized ndarray:\")\n",
    "print(x_normalized)"
   ]
  },
  {
   "cell_type": "markdown",
   "id": "44480012-48df-4e51-8f69-e26abf1d9137",
   "metadata": {},
   "source": [
    "# Divisible by 3 Problem"
   ]
  },
  {
   "cell_type": "code",
   "execution_count": 5,
   "id": "2f16e0f5-2116-4fc4-95c0-dad915868147",
   "metadata": {},
   "outputs": [
    {
     "name": "stdout",
     "output_type": "stream",
     "text": [
      "Array of Squares divisible by 3: \n",
      "[   9   36   81  144  225  324  441  576  729  900 1089 1296 1521 1764\n",
      " 2025 2304 2601 2916 3249 3600 3969 4356 4761 5184 5625 6084 6561 7056\n",
      " 7569 8100 8649 9216 9801]\n"
     ]
    }
   ],
   "source": [
    "# Create an array of squares from 1 to 100\n",
    "A = np.arange(1, 101)**2\n",
    "A = A.reshape(10, 10)\n",
    "# Select elements from the array that are divisible by 3\n",
    "div_by_3 = A[A % 3 == 0]\n",
    "# Save the selected elements to a .npy file for later use\n",
    "np.save('div_by_3.npy', div_by_3)\n",
    "\n",
    "def display_div_by_3(A):\n",
    "    rows, cols = A.shape\n",
    "    for i in range(rows):\n",
    "        row_str = \"\"\n",
    "        for j in range(cols):\n",
    "            row_str += f\"{A[i, j]:<6} \"  # Display the actual element with a width of 6 characters\n",
    "        print(row_str)\n",
    "\n",
    "# Print a message indicating the output of the following array\n",
    "print(\"Array of Squares divisible by 3: \")\n",
    "print(div_by_3)"
   ]
  },
  {
   "cell_type": "code",
   "execution_count": null,
   "id": "ba677ca8-d1ee-484c-942a-2da6a1238629",
   "metadata": {},
   "outputs": [],
   "source": []
  },
  {
   "cell_type": "code",
   "execution_count": null,
   "id": "00ee0033-6cd4-411e-b88f-fdc9661d73e4",
   "metadata": {},
   "outputs": [],
   "source": [
    "\n",
    "\n",
    "\n"
   ]
  }
 ],
 "metadata": {
  "kernelspec": {
   "display_name": "Python 3 (ipykernel)",
   "language": "python",
   "name": "python3"
  },
  "language_info": {
   "codemirror_mode": {
    "name": "ipython",
    "version": 3
   },
   "file_extension": ".py",
   "mimetype": "text/x-python",
   "name": "python",
   "nbconvert_exporter": "python",
   "pygments_lexer": "ipython3",
   "version": "3.12.4"
  }
 },
 "nbformat": 4,
 "nbformat_minor": 5
}
