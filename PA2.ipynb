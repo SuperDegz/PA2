{
 "cells": [
  {
   "cell_type": "markdown",
   "id": "59eca1cc-dede-4e6c-ae94-eedab2375258",
   "metadata": {},
   "source": [
    "# NORMALIZATION PROBLEM"
   ]
  },
  {
   "cell_type": "code",
   "execution_count": 2,
   "id": "293b9d85-4ead-4e95-b9d6-669d40f47395",
   "metadata": {},
   "outputs": [],
   "source": [
    "import numpy as np"
   ]
  },
  {
   "cell_type": "code",
   "execution_count": 3,
   "id": "1ab987a4-562b-4663-b5b3-50fd658017d2",
   "metadata": {},
   "outputs": [
    {
     "name": "stdout",
     "output_type": "stream",
     "text": [
      "Original ndarray: \n",
      "[[0.95284969 0.53640858 0.551173   0.63763289 0.06390933]\n",
      " [0.03923288 0.92515881 0.40574277 0.95675961 0.43254081]\n",
      " [0.71984725 0.73622563 0.5405697  0.83575838 0.13358158]\n",
      " [0.2484958  0.60750606 0.8016029  0.77665325 0.21719091]\n",
      " [0.98732653 0.2049922  0.13812807 0.11925317 0.44354444]]\n",
      "\n",
      "Normalize ndarray:\n",
      "[[0.96363562 0.52439514 0.53996788 0.63116129 0.02602744]\n",
      " [0.         0.93442872 0.38657562 0.9677596  0.4148408 ]\n",
      " [0.71787673 0.73515179 0.52878407 0.84013378 0.09951412]\n",
      " [0.22071968 0.59938507 0.80410835 0.77779275 0.1877009 ]\n",
      " [1.         0.17483433 0.10430952 0.08440125 0.42644687]]\n",
      "[[0.95284969 0.53640858 0.551173   0.63763289 0.06390933]\n",
      " [0.03923288 0.92515881 0.40574277 0.95675961 0.43254081]\n",
      " [0.71984725 0.73622563 0.5405697  0.83575838 0.13358158]\n",
      " [0.2484958  0.60750606 0.8016029  0.77665325 0.21719091]\n",
      " [0.98732653 0.2049922  0.13812807 0.11925317 0.44354444]]\n"
     ]
    }
   ],
   "source": [
    "# Generate a 5x5 array of random numbers between 0 and 1\n",
    "x = np.random.rand(5, 5)\n",
    "print (\"Original ndarray: \")\n",
    "print(x)\n",
    "\n",
    "# Normalize the ndarray to a range between 0 and 1\n",
    "x_normalized = ((x - x.min()) / (x.max() - x.min()))\n",
    "np.save('x_normalize.npy', x_normalized)\n",
    "print (\"\\nNormalize ndarray:\")\n",
    "print(x_normalized)\n",
    "print(x)"
   ]
  },
  {
   "cell_type": "markdown",
   "id": "44480012-48df-4e51-8f69-e26abf1d9137",
   "metadata": {},
   "source": [
    "# Divisible by 3 Problem"
   ]
  },
  {
   "cell_type": "code",
   "execution_count": 5,
   "id": "2f16e0f5-2116-4fc4-95c0-dad915868147",
   "metadata": {},
   "outputs": [
    {
     "name": "stdout",
     "output_type": "stream",
     "text": [
      "Array of Squares divisible by 3: \n",
      "[   9   36   81  144  225  324  441  576  729  900 1089 1296 1521 1764\n",
      " 2025 2304 2601 2916 3249 3600 3969 4356 4761 5184 5625 6084 6561 7056\n",
      " 7569 8100 8649 9216 9801]\n"
     ]
    }
   ],
   "source": [
    "# Create an array of squares from 1 to 100\n",
    "A = np.arange(1, 101)**2\n",
    "A = A.reshape(10, 10)\n",
    "# Select elements from the array that are divisible by 3\n",
    "div_by_3 = A[A % 3 == 0]\n",
    "# Save the selected elements to a .npy file for later use\n",
    "np.save('div_by_3.npy', div_by_3)\n",
    "\n",
    "def display_div_by_3(A):\n",
    "    rows, cols = A.shape\n",
    "    for i in range(rows):\n",
    "        row_str = \"\"\n",
    "        for j in range(cols):\n",
    "            row_str += f\"{A[i, j]:<6} \"  # Display the actual element with a width of 6 characters\n",
    "        print(row_str)\n",
    "\n",
    "# Print a message indicating the output of the following array\n",
    "print(\"Array of Squares divisible by 3: \")\n",
    "print(div_by_3)"
   ]
  },
  {
   "cell_type": "code",
   "execution_count": null,
   "id": "ba677ca8-d1ee-484c-942a-2da6a1238629",
   "metadata": {},
   "outputs": [],
   "source": []
  },
  {
   "cell_type": "code",
   "execution_count": null,
   "id": "00ee0033-6cd4-411e-b88f-fdc9661d73e4",
   "metadata": {},
   "outputs": [],
   "source": [
    "\n",
    "\n",
    "\n"
   ]
  }
 ],
 "metadata": {
  "kernelspec": {
   "display_name": "Python 3 (ipykernel)",
   "language": "python",
   "name": "python3"
  },
  "language_info": {
   "codemirror_mode": {
    "name": "ipython",
    "version": 3
   },
   "file_extension": ".py",
   "mimetype": "text/x-python",
   "name": "python",
   "nbconvert_exporter": "python",
   "pygments_lexer": "ipython3",
   "version": "3.12.4"
  }
 },
 "nbformat": 4,
 "nbformat_minor": 5
}
